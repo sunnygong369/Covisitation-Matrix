{
  "cells": [
    {
      "cell_type": "markdown",
      "metadata": {
        "id": "view-in-github",
        "colab_type": "text"
      },
      "source": [
        "<a href=\"https://colab.research.google.com/github/sunnygong369/Covisitation-Matrix/blob/main/MOVIE_MATRIX_DONE.ipynb\" target=\"_parent\"><img src=\"https://colab.research.google.com/assets/colab-badge.svg\" alt=\"Open In Colab\"/></a>"
      ]
    },
    {
      "cell_type": "markdown",
      "source": [
        "### **Settings**"
      ],
      "metadata": {
        "id": "maCAIEQFhNkI"
      }
    },
    {
      "cell_type": "code",
      "execution_count": 24,
      "metadata": {
        "colab": {
          "base_uri": "https://localhost:8080/"
        },
        "id": "aj-tjM5-SIXG",
        "outputId": "fbb75336-2604-4288-ccff-19f579982ed9"
      },
      "outputs": [
        {
          "output_type": "stream",
          "name": "stdout",
          "text": [
            "Drive already mounted at /content/drive; to attempt to forcibly remount, call drive.mount(\"/content/drive\", force_remount=True).\n"
          ]
        }
      ],
      "source": [
        "from google.colab import drive\n",
        "drive.mount('/content/drive')"
      ]
    },
    {
      "cell_type": "code",
      "execution_count": null,
      "metadata": {
        "id": "Ibq2iWMvTCx8"
      },
      "outputs": [],
      "source": [
        "import pandas as pd\n",
        "import numpy as np\n",
        "\n",
        "df = pd.read_csv('/content/drive/MyDrive/Colab Notebooks/movie_ratings.csv') #load the csv file --> the \"history table\"\n",
        "df = df[[\"userId\", \"movieId\", \"timestamp\"]]\n",
        "df = df.reset_index(drop = True)\n",
        "df.head(10)"
      ]
    },
    {
      "cell_type": "markdown",
      "source": [
        "### **Rearranging the dataset**"
      ],
      "metadata": {
        "id": "Y6mGeRdAhd54"
      }
    },
    {
      "cell_type": "markdown",
      "source": [
        "*   **Sorting by timestamp [to make order matter]**"
      ],
      "metadata": {
        "id": "RMR1K9EuqkyO"
      }
    },
    {
      "cell_type": "code",
      "source": [
        "df_grp = df.groupby('userId') #group by \"userId\"\n",
        "\n",
        "df_grp_srt = df_grp.apply(lambda x: x.sort_values('timestamp')) #sorting each group by timestamp (ordered)\n",
        "\n",
        "df_grp_srt"
      ],
      "metadata": {
        "id": "3e0L8ISbyu7w"
      },
      "execution_count": null,
      "outputs": []
    },
    {
      "cell_type": "code",
      "source": [
        "#quick check on timestamp sorting:\n",
        "df_grp_srt[df_grp_srt['userId'] == 99] #replace 99 with any number"
      ],
      "metadata": {
        "id": "1jKxloDQnD7u"
      },
      "execution_count": null,
      "outputs": []
    },
    {
      "cell_type": "markdown",
      "source": [
        "*   **Filtering out the timestamp column**"
      ],
      "metadata": {
        "id": "WOQULrMarDaA"
      }
    },
    {
      "cell_type": "code",
      "source": [
        "df_new = zip(df_grp_srt['userId'].tolist(),df_grp_srt['movieId'].tolist()) #put 'userId' and 'movieId' to list\n",
        "df_new = pd.DataFrame(df_new)\n",
        "df_new.columns = ['User ID', 'Movie ID'] #rename the columns\n",
        "df_new.index.name = 'Index'\n",
        "\n",
        "df_new"
      ],
      "metadata": {
        "colab": {
          "base_uri": "https://localhost:8080/",
          "height": 454
        },
        "id": "M96vjuh_r9DH",
        "outputId": "bac1b694-97bb-4f32-fa41-7040a1f998a4"
      },
      "execution_count": 34,
      "outputs": [
        {
          "output_type": "execute_result",
          "data": {
            "text/plain": [
              "        User ID  Movie ID\n",
              "Index                    \n",
              "0             1      2762\n",
              "1             1     54503\n",
              "2             1    112552\n",
              "3             1     96821\n",
              "4             1      5577\n",
              "...         ...       ...\n",
              "493920     5108      2648\n",
              "493921     5108       318\n",
              "493922     5108      1219\n",
              "493923     5108       296\n",
              "493924     5109      1345\n",
              "\n",
              "[493925 rows x 2 columns]"
            ],
            "text/html": [
              "\n",
              "  <div id=\"df-5c3fdfe4-be94-4393-8293-bc28966893a4\">\n",
              "    <div class=\"colab-df-container\">\n",
              "      <div>\n",
              "<style scoped>\n",
              "    .dataframe tbody tr th:only-of-type {\n",
              "        vertical-align: middle;\n",
              "    }\n",
              "\n",
              "    .dataframe tbody tr th {\n",
              "        vertical-align: top;\n",
              "    }\n",
              "\n",
              "    .dataframe thead th {\n",
              "        text-align: right;\n",
              "    }\n",
              "</style>\n",
              "<table border=\"1\" class=\"dataframe\">\n",
              "  <thead>\n",
              "    <tr style=\"text-align: right;\">\n",
              "      <th></th>\n",
              "      <th>User ID</th>\n",
              "      <th>Movie ID</th>\n",
              "    </tr>\n",
              "    <tr>\n",
              "      <th>Index</th>\n",
              "      <th></th>\n",
              "      <th></th>\n",
              "    </tr>\n",
              "  </thead>\n",
              "  <tbody>\n",
              "    <tr>\n",
              "      <th>0</th>\n",
              "      <td>1</td>\n",
              "      <td>2762</td>\n",
              "    </tr>\n",
              "    <tr>\n",
              "      <th>1</th>\n",
              "      <td>1</td>\n",
              "      <td>54503</td>\n",
              "    </tr>\n",
              "    <tr>\n",
              "      <th>2</th>\n",
              "      <td>1</td>\n",
              "      <td>112552</td>\n",
              "    </tr>\n",
              "    <tr>\n",
              "      <th>3</th>\n",
              "      <td>1</td>\n",
              "      <td>96821</td>\n",
              "    </tr>\n",
              "    <tr>\n",
              "      <th>4</th>\n",
              "      <td>1</td>\n",
              "      <td>5577</td>\n",
              "    </tr>\n",
              "    <tr>\n",
              "      <th>...</th>\n",
              "      <td>...</td>\n",
              "      <td>...</td>\n",
              "    </tr>\n",
              "    <tr>\n",
              "      <th>493920</th>\n",
              "      <td>5108</td>\n",
              "      <td>2648</td>\n",
              "    </tr>\n",
              "    <tr>\n",
              "      <th>493921</th>\n",
              "      <td>5108</td>\n",
              "      <td>318</td>\n",
              "    </tr>\n",
              "    <tr>\n",
              "      <th>493922</th>\n",
              "      <td>5108</td>\n",
              "      <td>1219</td>\n",
              "    </tr>\n",
              "    <tr>\n",
              "      <th>493923</th>\n",
              "      <td>5108</td>\n",
              "      <td>296</td>\n",
              "    </tr>\n",
              "    <tr>\n",
              "      <th>493924</th>\n",
              "      <td>5109</td>\n",
              "      <td>1345</td>\n",
              "    </tr>\n",
              "  </tbody>\n",
              "</table>\n",
              "<p>493925 rows × 2 columns</p>\n",
              "</div>\n",
              "      <button class=\"colab-df-convert\" onclick=\"convertToInteractive('df-5c3fdfe4-be94-4393-8293-bc28966893a4')\"\n",
              "              title=\"Convert this dataframe to an interactive table.\"\n",
              "              style=\"display:none;\">\n",
              "        \n",
              "  <svg xmlns=\"http://www.w3.org/2000/svg\" height=\"24px\"viewBox=\"0 0 24 24\"\n",
              "       width=\"24px\">\n",
              "    <path d=\"M0 0h24v24H0V0z\" fill=\"none\"/>\n",
              "    <path d=\"M18.56 5.44l.94 2.06.94-2.06 2.06-.94-2.06-.94-.94-2.06-.94 2.06-2.06.94zm-11 1L8.5 8.5l.94-2.06 2.06-.94-2.06-.94L8.5 2.5l-.94 2.06-2.06.94zm10 10l.94 2.06.94-2.06 2.06-.94-2.06-.94-.94-2.06-.94 2.06-2.06.94z\"/><path d=\"M17.41 7.96l-1.37-1.37c-.4-.4-.92-.59-1.43-.59-.52 0-1.04.2-1.43.59L10.3 9.45l-7.72 7.72c-.78.78-.78 2.05 0 2.83L4 21.41c.39.39.9.59 1.41.59.51 0 1.02-.2 1.41-.59l7.78-7.78 2.81-2.81c.8-.78.8-2.07 0-2.86zM5.41 20L4 18.59l7.72-7.72 1.47 1.35L5.41 20z\"/>\n",
              "  </svg>\n",
              "      </button>\n",
              "      \n",
              "  <style>\n",
              "    .colab-df-container {\n",
              "      display:flex;\n",
              "      flex-wrap:wrap;\n",
              "      gap: 12px;\n",
              "    }\n",
              "\n",
              "    .colab-df-convert {\n",
              "      background-color: #E8F0FE;\n",
              "      border: none;\n",
              "      border-radius: 50%;\n",
              "      cursor: pointer;\n",
              "      display: none;\n",
              "      fill: #1967D2;\n",
              "      height: 32px;\n",
              "      padding: 0 0 0 0;\n",
              "      width: 32px;\n",
              "    }\n",
              "\n",
              "    .colab-df-convert:hover {\n",
              "      background-color: #E2EBFA;\n",
              "      box-shadow: 0px 1px 2px rgba(60, 64, 67, 0.3), 0px 1px 3px 1px rgba(60, 64, 67, 0.15);\n",
              "      fill: #174EA6;\n",
              "    }\n",
              "\n",
              "    [theme=dark] .colab-df-convert {\n",
              "      background-color: #3B4455;\n",
              "      fill: #D2E3FC;\n",
              "    }\n",
              "\n",
              "    [theme=dark] .colab-df-convert:hover {\n",
              "      background-color: #434B5C;\n",
              "      box-shadow: 0px 1px 3px 1px rgba(0, 0, 0, 0.15);\n",
              "      filter: drop-shadow(0px 1px 2px rgba(0, 0, 0, 0.3));\n",
              "      fill: #FFFFFF;\n",
              "    }\n",
              "  </style>\n",
              "\n",
              "      <script>\n",
              "        const buttonEl =\n",
              "          document.querySelector('#df-5c3fdfe4-be94-4393-8293-bc28966893a4 button.colab-df-convert');\n",
              "        buttonEl.style.display =\n",
              "          google.colab.kernel.accessAllowed ? 'block' : 'none';\n",
              "\n",
              "        async function convertToInteractive(key) {\n",
              "          const element = document.querySelector('#df-5c3fdfe4-be94-4393-8293-bc28966893a4');\n",
              "          const dataTable =\n",
              "            await google.colab.kernel.invokeFunction('convertToInteractive',\n",
              "                                                     [key], {});\n",
              "          if (!dataTable) return;\n",
              "\n",
              "          const docLinkHtml = 'Like what you see? Visit the ' +\n",
              "            '<a target=\"_blank\" href=https://colab.research.google.com/notebooks/data_table.ipynb>data table notebook</a>'\n",
              "            + ' to learn more about interactive tables.';\n",
              "          element.innerHTML = '';\n",
              "          dataTable['output_type'] = 'display_data';\n",
              "          await google.colab.output.renderOutput(dataTable, element);\n",
              "          const docLink = document.createElement('div');\n",
              "          docLink.innerHTML = docLinkHtml;\n",
              "          element.appendChild(docLink);\n",
              "        }\n",
              "      </script>\n",
              "    </div>\n",
              "  </div>\n",
              "  "
            ]
          },
          "metadata": {},
          "execution_count": 34
        }
      ]
    },
    {
      "cell_type": "markdown",
      "source": [
        "------------------------------------------------------------------------------\n",
        "*   **Step abandoned [crashed for trying to display entries in \"user1 item1 item2 item3 ... itemN\" format]**\n",
        "------------------------------------------------------------------------------\n"
      ],
      "metadata": {
        "id": "i_nac6b5sVQE"
      }
    },
    {
      "cell_type": "code",
      "source": [
        "# aimed to arrange data in the format as such: \"user1 item1 item2 item3 ... itemN\" for all the rows\n",
        "#it will crash --> don't run\n",
        "#it will crash --> don't run\n",
        "#it will crash --> don't run\n",
        "\n",
        "df_new_wide = df_new.pivot_table(index='User ID', columns='Index', values='Movie ID', aggfunc='first') \n",
        "\n",
        "df_new_wide"
      ],
      "metadata": {
        "id": "REHhWoDitkbn"
      },
      "execution_count": null,
      "outputs": []
    },
    {
      "cell_type": "markdown",
      "source": [
        "*   **Rearranging the entries**"
      ],
      "metadata": {
        "id": "a4DolVgbrcG8"
      }
    },
    {
      "cell_type": "code",
      "execution_count": null,
      "metadata": {
        "id": "H82NzM9pTJBc"
      },
      "outputs": [],
      "source": [
        "df_new1 = df_new.groupby('User ID')['Movie ID'].agg(list).reset_index() #take the \"User ID\" and \"Movie ID\" columns to create the users' history table\n",
        "df_new1"
      ]
    },
    {
      "cell_type": "code",
      "execution_count": null,
      "metadata": {
        "id": "KFErHQAlTMsr"
      },
      "outputs": [],
      "source": [
        "df_new2 = df_new1[\"Movie ID\"] #select \"Movie ID\" --> to creat pairs at the next stage\n",
        "df_new2"
      ]
    },
    {
      "cell_type": "markdown",
      "source": [
        "*   **Finding all the pairs from the entries** (time: 3s + 3s from the last run)"
      ],
      "metadata": {
        "id": "lLoZt027rqzA"
      }
    },
    {
      "cell_type": "code",
      "execution_count": null,
      "metadata": {
        "id": "eFfe8sJMTPrm"
      },
      "outputs": [],
      "source": [
        "from nltk import bigrams\n",
        "bigrams_list = [list(bigrams(i)) for i in df_new2] #finding all the pairs\n",
        "bigrams_list\n",
        "\n",
        "bigrams_list = [[str(i) for i in sublist] for sublist in bigrams_list] #making all the pairs to string (for counting purposes)\n",
        "bigrams_list"
      ]
    },
    {
      "cell_type": "code",
      "source": [
        "bigrams_list = [[i.replace('(', '').replace(')', '') for i in sublist] for sublist in bigrams_list] #remove all brackets\n",
        "bigrams_list"
      ],
      "metadata": {
        "id": "-z4xmuRm0-Qh"
      },
      "execution_count": null,
      "outputs": []
    },
    {
      "cell_type": "markdown",
      "source": [
        "*   **Counting all the pairs**"
      ],
      "metadata": {
        "id": "WyWGqXE6rxob"
      }
    },
    {
      "cell_type": "code",
      "execution_count": null,
      "metadata": {
        "id": "euAVKJEgTYA4"
      },
      "outputs": [],
      "source": [
        "from collections import Counter\n",
        "\n",
        "all_pairs = [i for sublist in bigrams_list for i in sublist] #list of lists unpacked\n",
        "\n",
        "pairs_counter = Counter(all_pairs) #counting unique pairs from \"history\" (i.e. ordered entries)\n",
        "pairs_counter"
      ]
    },
    {
      "cell_type": "markdown",
      "source": [
        "### **Constructing a [blank] Covisitation Matrix**"
      ],
      "metadata": {
        "id": "3I_yORlf4qMq"
      }
    },
    {
      "cell_type": "markdown",
      "source": [
        "*   **Unique IDs for labels**"
      ],
      "metadata": {
        "id": "v-nryuFWqLKf"
      }
    },
    {
      "cell_type": "code",
      "source": [
        "unique_val = pd.DataFrame(pd.unique(df_new2.explode())) #unpack and collect unique values -> then make it a df\n",
        "unique_val_srt = unique_val[0].sort_values().astype(str).tolist() #sorting df by unique values -> making them strings (for labeling purposes) in list\n",
        "unique_val_srt"
      ],
      "metadata": {
        "id": "0YvilfsT2D0J"
      },
      "execution_count": null,
      "outputs": []
    },
    {
      "cell_type": "markdown",
      "source": [
        "*   **Blank matrix filled with zeros**"
      ],
      "metadata": {
        "id": "YGtw0ifnqXAY"
      }
    },
    {
      "cell_type": "code",
      "source": [
        "co_matrix = np.zeros((len(unique_val_srt), len(unique_val_srt)), dtype=int) #a blank covisitation matrix created\n",
        "co_matrix = pd.DataFrame(co_matrix) #converting matrix to df\n",
        "co_matrix.index = unique_val_srt #labeling the rows with unique IDs\n",
        "co_matrix.columns = unique_val_srt #labeling the columns ...\n",
        "co_matrix"
      ],
      "metadata": {
        "id": "itGrUfZP2g98"
      },
      "execution_count": null,
      "outputs": []
    },
    {
      "cell_type": "markdown",
      "source": [
        "------------------------------------------------------------------------------\n",
        "*   **Step abandoned [crashed for trying to display all the pairs in matrix]**\n",
        "------------------------------------------------------------------------------\n"
      ],
      "metadata": {
        "id": "rQck_bzTsGDx"
      }
    },
    {
      "cell_type": "code",
      "source": [
        "#display all the pairs in the matrix\n",
        "#don't run --> it will crash\n",
        "#don't run --> it will crash\n",
        "#don't run --> it will crash\n",
        "\n",
        "for i in co_matrix.index: \n",
        "  for j in co_matrix.columns:\n",
        "    co_matrix[i][j] = (str(i)+str(j))\n",
        "\n",
        "co_matrix"
      ],
      "metadata": {
        "colab": {
          "base_uri": "https://localhost:8080/",
          "height": 555
        },
        "id": "noWOrcOn2x_5",
        "outputId": "8488806f-a3d1-4ce4-a889-0150d265cb9e"
      },
      "execution_count": 23,
      "outputs": [
        {
          "output_type": "stream",
          "name": "stderr",
          "text": [
            "<ipython-input-23-6c4c8f3a536a>:8: SettingWithCopyWarning: \n",
            "A value is trying to be set on a copy of a slice from a DataFrame\n",
            "\n",
            "See the caveats in the documentation: https://pandas.pydata.org/pandas-docs/stable/user_guide/indexing.html#returning-a-view-versus-a-copy\n",
            "  co_matrix[i][j] = (str(i)+str(j))\n"
          ]
        },
        {
          "output_type": "error",
          "ename": "KeyboardInterrupt",
          "evalue": "ignored",
          "traceback": [
            "\u001b[0;31m---------------------------------------------------------------------------\u001b[0m",
            "\u001b[0;31mLossySetitemError\u001b[0m                         Traceback (most recent call last)",
            "\u001b[0;32m/usr/local/lib/python3.9/dist-packages/pandas/core/series.py\u001b[0m in \u001b[0;36m__setitem__\u001b[0;34m(self, key, value)\u001b[0m\n\u001b[1;32m   1104\u001b[0m         \u001b[0;32mtry\u001b[0m\u001b[0;34m:\u001b[0m\u001b[0;34m\u001b[0m\u001b[0;34m\u001b[0m\u001b[0m\n\u001b[0;32m-> 1105\u001b[0;31m             \u001b[0mself\u001b[0m\u001b[0;34m.\u001b[0m\u001b[0m_set_with_engine\u001b[0m\u001b[0;34m(\u001b[0m\u001b[0mkey\u001b[0m\u001b[0;34m,\u001b[0m \u001b[0mvalue\u001b[0m\u001b[0;34m)\u001b[0m\u001b[0;34m\u001b[0m\u001b[0;34m\u001b[0m\u001b[0m\n\u001b[0m\u001b[1;32m   1106\u001b[0m         \u001b[0;32mexcept\u001b[0m \u001b[0mKeyError\u001b[0m\u001b[0;34m:\u001b[0m\u001b[0;34m\u001b[0m\u001b[0;34m\u001b[0m\u001b[0m\n",
            "\u001b[0;32m/usr/local/lib/python3.9/dist-packages/pandas/core/series.py\u001b[0m in \u001b[0;36m_set_with_engine\u001b[0;34m(self, key, value)\u001b[0m\n\u001b[1;32m   1177\u001b[0m         \u001b[0;31m# this is equivalent to self._values[key] = value\u001b[0m\u001b[0;34m\u001b[0m\u001b[0;34m\u001b[0m\u001b[0m\n\u001b[0;32m-> 1178\u001b[0;31m         \u001b[0mself\u001b[0m\u001b[0;34m.\u001b[0m\u001b[0m_mgr\u001b[0m\u001b[0;34m.\u001b[0m\u001b[0msetitem_inplace\u001b[0m\u001b[0;34m(\u001b[0m\u001b[0mloc\u001b[0m\u001b[0;34m,\u001b[0m \u001b[0mvalue\u001b[0m\u001b[0;34m)\u001b[0m\u001b[0;34m\u001b[0m\u001b[0;34m\u001b[0m\u001b[0m\n\u001b[0m\u001b[1;32m   1179\u001b[0m \u001b[0;34m\u001b[0m\u001b[0m\n",
            "\u001b[0;32m/usr/local/lib/python3.9/dist-packages/pandas/core/internals/managers.py\u001b[0m in \u001b[0;36msetitem_inplace\u001b[0;34m(self, indexer, value)\u001b[0m\n\u001b[1;32m   2101\u001b[0m \u001b[0;34m\u001b[0m\u001b[0m\n\u001b[0;32m-> 2102\u001b[0;31m         \u001b[0msuper\u001b[0m\u001b[0;34m(\u001b[0m\u001b[0;34m)\u001b[0m\u001b[0;34m.\u001b[0m\u001b[0msetitem_inplace\u001b[0m\u001b[0;34m(\u001b[0m\u001b[0mindexer\u001b[0m\u001b[0;34m,\u001b[0m \u001b[0mvalue\u001b[0m\u001b[0;34m)\u001b[0m\u001b[0;34m\u001b[0m\u001b[0;34m\u001b[0m\u001b[0m\n\u001b[0m\u001b[1;32m   2103\u001b[0m \u001b[0;34m\u001b[0m\u001b[0m\n",
            "\u001b[0;32m/usr/local/lib/python3.9/dist-packages/pandas/core/internals/base.py\u001b[0m in \u001b[0;36msetitem_inplace\u001b[0;34m(self, indexer, value)\u001b[0m\n\u001b[1;32m    187\u001b[0m             \u001b[0;31m#  dt64/td64, which do their own validation.\u001b[0m\u001b[0;34m\u001b[0m\u001b[0;34m\u001b[0m\u001b[0m\n\u001b[0;32m--> 188\u001b[0;31m             \u001b[0mvalue\u001b[0m \u001b[0;34m=\u001b[0m \u001b[0mnp_can_hold_element\u001b[0m\u001b[0;34m(\u001b[0m\u001b[0marr\u001b[0m\u001b[0;34m.\u001b[0m\u001b[0mdtype\u001b[0m\u001b[0;34m,\u001b[0m \u001b[0mvalue\u001b[0m\u001b[0;34m)\u001b[0m\u001b[0;34m\u001b[0m\u001b[0;34m\u001b[0m\u001b[0m\n\u001b[0m\u001b[1;32m    189\u001b[0m \u001b[0;34m\u001b[0m\u001b[0m\n",
            "\u001b[0;32m/usr/local/lib/python3.9/dist-packages/pandas/core/dtypes/cast.py\u001b[0m in \u001b[0;36mnp_can_hold_element\u001b[0;34m(dtype, element)\u001b[0m\n\u001b[1;32m   2008\u001b[0m \u001b[0;34m\u001b[0m\u001b[0m\n\u001b[0;32m-> 2009\u001b[0;31m         \u001b[0;32mraise\u001b[0m \u001b[0mLossySetitemError\u001b[0m\u001b[0;34m\u001b[0m\u001b[0;34m\u001b[0m\u001b[0m\n\u001b[0m\u001b[1;32m   2010\u001b[0m \u001b[0;34m\u001b[0m\u001b[0m\n",
            "\u001b[0;31mLossySetitemError\u001b[0m: ",
            "\nDuring handling of the above exception, another exception occurred:\n",
            "\u001b[0;31mKeyboardInterrupt\u001b[0m                         Traceback (most recent call last)",
            "\u001b[0;32m<ipython-input-23-6c4c8f3a536a>\u001b[0m in \u001b[0;36m<cell line: 6>\u001b[0;34m()\u001b[0m\n\u001b[1;32m      6\u001b[0m \u001b[0;32mfor\u001b[0m \u001b[0mi\u001b[0m \u001b[0;32min\u001b[0m \u001b[0mco_matrix\u001b[0m\u001b[0;34m.\u001b[0m\u001b[0mindex\u001b[0m\u001b[0;34m:\u001b[0m\u001b[0;34m\u001b[0m\u001b[0;34m\u001b[0m\u001b[0m\n\u001b[1;32m      7\u001b[0m   \u001b[0;32mfor\u001b[0m \u001b[0mj\u001b[0m \u001b[0;32min\u001b[0m \u001b[0mco_matrix\u001b[0m\u001b[0;34m.\u001b[0m\u001b[0mcolumns\u001b[0m\u001b[0;34m:\u001b[0m\u001b[0;34m\u001b[0m\u001b[0;34m\u001b[0m\u001b[0m\n\u001b[0;32m----> 8\u001b[0;31m     \u001b[0mco_matrix\u001b[0m\u001b[0;34m[\u001b[0m\u001b[0mi\u001b[0m\u001b[0;34m]\u001b[0m\u001b[0;34m[\u001b[0m\u001b[0mj\u001b[0m\u001b[0;34m]\u001b[0m \u001b[0;34m=\u001b[0m \u001b[0;34m(\u001b[0m\u001b[0mstr\u001b[0m\u001b[0;34m(\u001b[0m\u001b[0mi\u001b[0m\u001b[0;34m)\u001b[0m\u001b[0;34m+\u001b[0m\u001b[0mstr\u001b[0m\u001b[0;34m(\u001b[0m\u001b[0mj\u001b[0m\u001b[0;34m)\u001b[0m\u001b[0;34m)\u001b[0m\u001b[0;34m\u001b[0m\u001b[0;34m\u001b[0m\u001b[0m\n\u001b[0m\u001b[1;32m      9\u001b[0m \u001b[0;34m\u001b[0m\u001b[0m\n\u001b[1;32m     10\u001b[0m \u001b[0mco_matrix\u001b[0m\u001b[0;34m\u001b[0m\u001b[0;34m\u001b[0m\u001b[0m\n",
            "\u001b[0;32m/usr/local/lib/python3.9/dist-packages/pandas/core/series.py\u001b[0m in \u001b[0;36m__setitem__\u001b[0;34m(self, key, value)\u001b[0m\n\u001b[1;32m   1130\u001b[0m             \u001b[0;31m# The key was OK, but we cannot set the value losslessly\u001b[0m\u001b[0;34m\u001b[0m\u001b[0;34m\u001b[0m\u001b[0m\n\u001b[1;32m   1131\u001b[0m             \u001b[0mindexer\u001b[0m \u001b[0;34m=\u001b[0m \u001b[0mself\u001b[0m\u001b[0;34m.\u001b[0m\u001b[0mindex\u001b[0m\u001b[0;34m.\u001b[0m\u001b[0mget_loc\u001b[0m\u001b[0;34m(\u001b[0m\u001b[0mkey\u001b[0m\u001b[0;34m)\u001b[0m\u001b[0;34m\u001b[0m\u001b[0;34m\u001b[0m\u001b[0m\n\u001b[0;32m-> 1132\u001b[0;31m             \u001b[0mself\u001b[0m\u001b[0;34m.\u001b[0m\u001b[0m_set_values\u001b[0m\u001b[0;34m(\u001b[0m\u001b[0mindexer\u001b[0m\u001b[0;34m,\u001b[0m \u001b[0mvalue\u001b[0m\u001b[0;34m)\u001b[0m\u001b[0;34m\u001b[0m\u001b[0;34m\u001b[0m\u001b[0m\n\u001b[0m\u001b[1;32m   1133\u001b[0m \u001b[0;34m\u001b[0m\u001b[0m\n\u001b[1;32m   1134\u001b[0m         \u001b[0;32mexcept\u001b[0m \u001b[0mInvalidIndexError\u001b[0m \u001b[0;32mas\u001b[0m \u001b[0merr\u001b[0m\u001b[0;34m:\u001b[0m\u001b[0;34m\u001b[0m\u001b[0;34m\u001b[0m\u001b[0m\n",
            "\u001b[0;32m/usr/local/lib/python3.9/dist-packages/pandas/core/series.py\u001b[0m in \u001b[0;36m_set_values\u001b[0;34m(self, key, value)\u001b[0m\n\u001b[1;32m   1214\u001b[0m \u001b[0;34m\u001b[0m\u001b[0m\n\u001b[1;32m   1215\u001b[0m         \u001b[0mself\u001b[0m\u001b[0;34m.\u001b[0m\u001b[0m_mgr\u001b[0m \u001b[0;34m=\u001b[0m \u001b[0mself\u001b[0m\u001b[0;34m.\u001b[0m\u001b[0m_mgr\u001b[0m\u001b[0;34m.\u001b[0m\u001b[0msetitem\u001b[0m\u001b[0;34m(\u001b[0m\u001b[0mindexer\u001b[0m\u001b[0;34m=\u001b[0m\u001b[0mkey\u001b[0m\u001b[0;34m,\u001b[0m \u001b[0mvalue\u001b[0m\u001b[0;34m=\u001b[0m\u001b[0mvalue\u001b[0m\u001b[0;34m)\u001b[0m\u001b[0;34m\u001b[0m\u001b[0;34m\u001b[0m\u001b[0m\n\u001b[0;32m-> 1216\u001b[0;31m         \u001b[0mself\u001b[0m\u001b[0;34m.\u001b[0m\u001b[0m_maybe_update_cacher\u001b[0m\u001b[0;34m(\u001b[0m\u001b[0;34m)\u001b[0m\u001b[0;34m\u001b[0m\u001b[0;34m\u001b[0m\u001b[0m\n\u001b[0m\u001b[1;32m   1217\u001b[0m \u001b[0;34m\u001b[0m\u001b[0m\n\u001b[1;32m   1218\u001b[0m     \u001b[0;32mdef\u001b[0m \u001b[0m_set_value\u001b[0m\u001b[0;34m(\u001b[0m\u001b[0mself\u001b[0m\u001b[0;34m,\u001b[0m \u001b[0mlabel\u001b[0m\u001b[0;34m,\u001b[0m \u001b[0mvalue\u001b[0m\u001b[0;34m,\u001b[0m \u001b[0mtakeable\u001b[0m\u001b[0;34m:\u001b[0m \u001b[0mbool\u001b[0m \u001b[0;34m=\u001b[0m \u001b[0;32mFalse\u001b[0m\u001b[0;34m)\u001b[0m\u001b[0;34m:\u001b[0m\u001b[0;34m\u001b[0m\u001b[0;34m\u001b[0m\u001b[0m\n",
            "\u001b[0;32m/usr/local/lib/python3.9/dist-packages/pandas/core/series.py\u001b[0m in \u001b[0;36m_maybe_update_cacher\u001b[0;34m(self, clear, verify_is_copy, inplace)\u001b[0m\n\u001b[1;32m   1315\u001b[0m                 \u001b[0;31m# to ensure column still in dataframe\u001b[0m\u001b[0;34m\u001b[0m\u001b[0;34m\u001b[0m\u001b[0m\n\u001b[1;32m   1316\u001b[0m                 \u001b[0;31m# otherwise, either self or ref has swapped in new arrays\u001b[0m\u001b[0;34m\u001b[0m\u001b[0;34m\u001b[0m\u001b[0m\n\u001b[0;32m-> 1317\u001b[0;31m                 \u001b[0mref\u001b[0m\u001b[0;34m.\u001b[0m\u001b[0m_maybe_cache_changed\u001b[0m\u001b[0;34m(\u001b[0m\u001b[0mcacher\u001b[0m\u001b[0;34m[\u001b[0m\u001b[0;36m0\u001b[0m\u001b[0;34m]\u001b[0m\u001b[0;34m,\u001b[0m \u001b[0mself\u001b[0m\u001b[0;34m,\u001b[0m \u001b[0minplace\u001b[0m\u001b[0;34m=\u001b[0m\u001b[0minplace\u001b[0m\u001b[0;34m)\u001b[0m\u001b[0;34m\u001b[0m\u001b[0;34m\u001b[0m\u001b[0m\n\u001b[0m\u001b[1;32m   1318\u001b[0m             \u001b[0;32melse\u001b[0m\u001b[0;34m:\u001b[0m\u001b[0;34m\u001b[0m\u001b[0;34m\u001b[0m\u001b[0m\n\u001b[1;32m   1319\u001b[0m                 \u001b[0;31m# GH#33675 we have swapped in a new array, so parent\u001b[0m\u001b[0;34m\u001b[0m\u001b[0;34m\u001b[0m\u001b[0m\n",
            "\u001b[0;32m/usr/local/lib/python3.9/dist-packages/pandas/core/frame.py\u001b[0m in \u001b[0;36m_maybe_cache_changed\u001b[0;34m(self, item, value, inplace)\u001b[0m\n\u001b[1;32m   4305\u001b[0m             \u001b[0;32mreturn\u001b[0m\u001b[0;34m\u001b[0m\u001b[0;34m\u001b[0m\u001b[0m\n\u001b[1;32m   4306\u001b[0m \u001b[0;34m\u001b[0m\u001b[0m\n\u001b[0;32m-> 4307\u001b[0;31m         \u001b[0mself\u001b[0m\u001b[0;34m.\u001b[0m\u001b[0m_mgr\u001b[0m\u001b[0;34m.\u001b[0m\u001b[0miset\u001b[0m\u001b[0;34m(\u001b[0m\u001b[0mloc\u001b[0m\u001b[0;34m,\u001b[0m \u001b[0marraylike\u001b[0m\u001b[0;34m,\u001b[0m \u001b[0minplace\u001b[0m\u001b[0;34m=\u001b[0m\u001b[0minplace\u001b[0m\u001b[0;34m)\u001b[0m\u001b[0;34m\u001b[0m\u001b[0;34m\u001b[0m\u001b[0m\n\u001b[0m\u001b[1;32m   4308\u001b[0m \u001b[0;34m\u001b[0m\u001b[0m\n\u001b[1;32m   4309\u001b[0m     \u001b[0;31m# ----------------------------------------------------------------------\u001b[0m\u001b[0;34m\u001b[0m\u001b[0;34m\u001b[0m\u001b[0m\n",
            "\u001b[0;32m/usr/local/lib/python3.9/dist-packages/pandas/core/internals/managers.py\u001b[0m in \u001b[0;36miset\u001b[0;34m(self, loc, value, inplace)\u001b[0m\n\u001b[1;32m   1266\u001b[0m                     \u001b[0mremoved_blknos\u001b[0m\u001b[0;34m.\u001b[0m\u001b[0mappend\u001b[0m\u001b[0;34m(\u001b[0m\u001b[0mblkno_l\u001b[0m\u001b[0;34m)\u001b[0m\u001b[0;34m\u001b[0m\u001b[0;34m\u001b[0m\u001b[0m\n\u001b[1;32m   1267\u001b[0m                 \u001b[0;32melse\u001b[0m\u001b[0;34m:\u001b[0m\u001b[0;34m\u001b[0m\u001b[0;34m\u001b[0m\u001b[0m\n\u001b[0;32m-> 1268\u001b[0;31m                     \u001b[0mnb\u001b[0m \u001b[0;34m=\u001b[0m \u001b[0mblk\u001b[0m\u001b[0;34m.\u001b[0m\u001b[0mdelete\u001b[0m\u001b[0;34m(\u001b[0m\u001b[0mblk_locs\u001b[0m\u001b[0;34m)\u001b[0m\u001b[0;34m\u001b[0m\u001b[0;34m\u001b[0m\u001b[0m\n\u001b[0m\u001b[1;32m   1269\u001b[0m                     blocks_tup = (\n\u001b[1;32m   1270\u001b[0m                         \u001b[0mself\u001b[0m\u001b[0;34m.\u001b[0m\u001b[0mblocks\u001b[0m\u001b[0;34m[\u001b[0m\u001b[0;34m:\u001b[0m\u001b[0mblkno_l\u001b[0m\u001b[0;34m]\u001b[0m \u001b[0;34m+\u001b[0m \u001b[0;34m(\u001b[0m\u001b[0mnb\u001b[0m\u001b[0;34m,\u001b[0m\u001b[0;34m)\u001b[0m \u001b[0;34m+\u001b[0m \u001b[0mself\u001b[0m\u001b[0;34m.\u001b[0m\u001b[0mblocks\u001b[0m\u001b[0;34m[\u001b[0m\u001b[0mblkno_l\u001b[0m \u001b[0;34m+\u001b[0m \u001b[0;36m1\u001b[0m \u001b[0;34m:\u001b[0m\u001b[0;34m]\u001b[0m\u001b[0;34m\u001b[0m\u001b[0;34m\u001b[0m\u001b[0m\n",
            "\u001b[0;32m/usr/local/lib/python3.9/dist-packages/pandas/core/internals/blocks.py\u001b[0m in \u001b[0;36mdelete\u001b[0;34m(self, loc)\u001b[0m\n\u001b[1;32m   1919\u001b[0m \u001b[0;34m\u001b[0m\u001b[0m\n\u001b[1;32m   1920\u001b[0m     \u001b[0;32mdef\u001b[0m \u001b[0mdelete\u001b[0m\u001b[0;34m(\u001b[0m\u001b[0mself\u001b[0m\u001b[0;34m,\u001b[0m \u001b[0mloc\u001b[0m\u001b[0;34m)\u001b[0m \u001b[0;34m->\u001b[0m \u001b[0mBlock\u001b[0m\u001b[0;34m:\u001b[0m\u001b[0;34m\u001b[0m\u001b[0;34m\u001b[0m\u001b[0m\n\u001b[0;32m-> 1921\u001b[0;31m         \u001b[0mvalues\u001b[0m \u001b[0;34m=\u001b[0m \u001b[0mnp\u001b[0m\u001b[0;34m.\u001b[0m\u001b[0mdelete\u001b[0m\u001b[0;34m(\u001b[0m\u001b[0mself\u001b[0m\u001b[0;34m.\u001b[0m\u001b[0mvalues\u001b[0m\u001b[0;34m,\u001b[0m \u001b[0mloc\u001b[0m\u001b[0;34m,\u001b[0m \u001b[0;36m0\u001b[0m\u001b[0;34m)\u001b[0m\u001b[0;34m\u001b[0m\u001b[0;34m\u001b[0m\u001b[0m\n\u001b[0m\u001b[1;32m   1922\u001b[0m         \u001b[0mmgr_locs\u001b[0m \u001b[0;34m=\u001b[0m \u001b[0mself\u001b[0m\u001b[0;34m.\u001b[0m\u001b[0m_mgr_locs\u001b[0m\u001b[0;34m.\u001b[0m\u001b[0mdelete\u001b[0m\u001b[0;34m(\u001b[0m\u001b[0mloc\u001b[0m\u001b[0;34m)\u001b[0m\u001b[0;34m\u001b[0m\u001b[0;34m\u001b[0m\u001b[0m\n\u001b[1;32m   1923\u001b[0m         \u001b[0;32mreturn\u001b[0m \u001b[0mtype\u001b[0m\u001b[0;34m(\u001b[0m\u001b[0mself\u001b[0m\u001b[0;34m)\u001b[0m\u001b[0;34m(\u001b[0m\u001b[0mvalues\u001b[0m\u001b[0;34m,\u001b[0m \u001b[0mplacement\u001b[0m\u001b[0;34m=\u001b[0m\u001b[0mmgr_locs\u001b[0m\u001b[0;34m,\u001b[0m \u001b[0mndim\u001b[0m\u001b[0;34m=\u001b[0m\u001b[0mself\u001b[0m\u001b[0;34m.\u001b[0m\u001b[0mndim\u001b[0m\u001b[0;34m)\u001b[0m\u001b[0;34m\u001b[0m\u001b[0;34m\u001b[0m\u001b[0m\n",
            "\u001b[0;32m/usr/local/lib/python3.9/dist-packages/numpy/core/overrides.py\u001b[0m in \u001b[0;36mdelete\u001b[0;34m(*args, **kwargs)\u001b[0m\n",
            "\u001b[0;32m/usr/local/lib/python3.9/dist-packages/numpy/lib/function_base.py\u001b[0m in \u001b[0;36mdelete\u001b[0;34m(arr, obj, axis)\u001b[0m\n\u001b[1;32m   5129\u001b[0m \u001b[0;34m\u001b[0m\u001b[0m\n\u001b[1;32m   5130\u001b[0m         \u001b[0mslobj\u001b[0m\u001b[0;34m[\u001b[0m\u001b[0maxis\u001b[0m\u001b[0;34m]\u001b[0m \u001b[0;34m=\u001b[0m \u001b[0mkeep\u001b[0m\u001b[0;34m\u001b[0m\u001b[0;34m\u001b[0m\u001b[0m\n\u001b[0;32m-> 5131\u001b[0;31m         \u001b[0mnew\u001b[0m \u001b[0;34m=\u001b[0m \u001b[0marr\u001b[0m\u001b[0;34m[\u001b[0m\u001b[0mtuple\u001b[0m\u001b[0;34m(\u001b[0m\u001b[0mslobj\u001b[0m\u001b[0;34m)\u001b[0m\u001b[0;34m]\u001b[0m\u001b[0;34m\u001b[0m\u001b[0;34m\u001b[0m\u001b[0m\n\u001b[0m\u001b[1;32m   5132\u001b[0m \u001b[0;34m\u001b[0m\u001b[0m\n\u001b[1;32m   5133\u001b[0m     \u001b[0;32mif\u001b[0m \u001b[0mwrap\u001b[0m\u001b[0;34m:\u001b[0m\u001b[0;34m\u001b[0m\u001b[0;34m\u001b[0m\u001b[0m\n",
            "\u001b[0;31mKeyboardInterrupt\u001b[0m: "
          ]
        }
      ]
    },
    {
      "cell_type": "markdown",
      "source": [
        "### **Constructing the Covisitation Matrix** \n",
        "**Filling the Covisitation Matrix** (time: 29s from the last run)"
      ],
      "metadata": {
        "id": "LE430f1a3jKz"
      }
    },
    {
      "cell_type": "code",
      "source": [
        "for key, value in dict(pairs_counter).items():\n",
        "   a = key.split(\",\")[0].strip()\n",
        "   b = key.split(\",\")[1].split(\":\")[0].strip()\n",
        "   c = value\n",
        "\n",
        "   co_matrix.loc[a,b] = c ###### it may have writen c to cell [a, b], but it is not showing in the table below\n",
        "\n",
        "co_matrix\n"
      ],
      "metadata": {
        "id": "2RlHNVfr3i0V"
      },
      "execution_count": null,
      "outputs": []
    },
    {
      "cell_type": "code",
      "source": [
        "#for checking only (i.e. the top 50x50 matrix)\n",
        "co_matrix[:50][:50]"
      ],
      "metadata": {
        "id": "twGCDrELYmvp"
      },
      "execution_count": null,
      "outputs": []
    },
    {
      "cell_type": "code",
      "source": [
        "#for checking only (i.e. checking the values of a, b, c) \n",
        "\n",
        "for key, value in dict(pairs_counter).items():\n",
        "   a = key.split(\",\")[0].strip()\n",
        "   b = key.split(\",\")[1].split(\":\")[0].strip()\n",
        "   c = value\n",
        "\n",
        "   print (a, b, c)"
      ],
      "metadata": {
        "id": "eV0cNaYAFdf-"
      },
      "execution_count": null,
      "outputs": []
    },
    {
      "cell_type": "markdown",
      "source": [
        "### **Predicting**"
      ],
      "metadata": {
        "id": "geNEtYxXiz-Q"
      }
    },
    {
      "cell_type": "markdown",
      "source": [
        "*   **Normalizing the matrix (could be skipped)** (time: 4s from the last run)\n",
        "\n",
        "\n"
      ],
      "metadata": {
        "id": "TSCnL065jpYt"
      }
    },
    {
      "cell_type": "code",
      "source": [
        "from sklearn.preprocessing import normalize #TO CONFIRM (How it should be normalized?) ALSO, cosine_similarity with or without the normalizing the matrix seem to give the same result\n",
        "\n",
        "co_matrix_norm = pd.DataFrame(normalize(co_matrix))\n",
        "co_matrix_norm.index = unique_val_srt #label the rows with the list of unique item ID\n",
        "co_matrix_norm.columns = unique_val_srt #label the columns ...\n",
        "\n",
        "co_matrix_norm"
      ],
      "metadata": {
        "id": "Yo5ntgVbi2Bp"
      },
      "execution_count": null,
      "outputs": []
    },
    {
      "cell_type": "markdown",
      "source": [
        "*   **Cosine_similarity_scores (with normalized matrix)** (time: 2m4s from the last run)\n",
        "\n",
        "\n",
        "\n",
        "\n",
        "\n"
      ],
      "metadata": {
        "id": "MpJiUGCdj775"
      }
    },
    {
      "cell_type": "code",
      "source": [
        "from sklearn.metrics.pairwise import cosine_similarity #[cosine_similarity (with normalized matrix)]\n",
        "\n",
        "cos_score_df = pd.DataFrame(cosine_similarity(co_matrix_norm)) #compute similarity score with cosine_similarity (without normalized the matrix)\n",
        "cos_score_df.index = unique_val_srt #label the rows with the list of unique item ID\n",
        "cos_score_df.columns = unique_val_srt #label the columns ...\n",
        "\n",
        "cos_score_df"
      ],
      "metadata": {
        "colab": {
          "base_uri": "https://localhost:8080/",
          "height": 487
        },
        "id": "vLP5h30ojmWD",
        "outputId": "670997bf-b3e5-4722-9cac-14f74af3d721"
      },
      "execution_count": 56,
      "outputs": [
        {
          "output_type": "execute_result",
          "data": {
            "text/plain": [
              "               1         2         3         4         5         6         7  \\\n",
              "1       1.000000  0.199041  0.069245  0.033521  0.077152  0.180646  0.080731   \n",
              "2       0.199041  1.000000  0.134896  0.044544  0.125633  0.164764  0.184516   \n",
              "3       0.069245  0.134896  1.000000  0.050661  0.528917  0.590083  0.567912   \n",
              "4       0.033521  0.044544  0.050661  1.000000  0.116470  0.062167  0.078292   \n",
              "5       0.077152  0.125633  0.528917  0.116470  1.000000  0.522006  0.625761   \n",
              "...          ...       ...       ...       ...       ...       ...       ...   \n",
              "175777  0.000000  0.000000  0.000000  0.000000  0.000000  0.000000  0.000000   \n",
              "175779  0.000000  0.000000  0.000000  0.000000  0.000000  0.000000  0.000000   \n",
              "175945  0.000000  0.000000  0.000000  0.000000  0.000000  0.000000  0.000000   \n",
              "176165  0.000000  0.000000  0.000000  0.000000  0.000000  0.000000  0.000000   \n",
              "176271  0.000000  0.000000  0.000000  0.000000  0.000000  0.000000  0.000000   \n",
              "\n",
              "               8         9        10  ...  175475  175579    175589  175773  \\\n",
              "1       0.014290  0.036629  0.175743  ...     0.0     0.0  0.006038     0.0   \n",
              "2       0.058321  0.089548  0.146228  ...     0.0     0.0  0.023002     0.0   \n",
              "3       0.029480  0.122374  0.055332  ...     0.0     0.0  0.000000     0.0   \n",
              "4       0.043644  0.058441  0.077279  ...     0.0     0.0  0.000000     0.0   \n",
              "5       0.020607  0.055188  0.041743  ...     0.0     0.0  0.000000     0.0   \n",
              "...          ...       ...       ...  ...     ...     ...       ...     ...   \n",
              "175777  0.000000  0.000000  0.000000  ...     0.0     0.0  0.000000     0.0   \n",
              "175779  0.000000  0.000000  0.000000  ...     0.0     0.0  0.000000     0.0   \n",
              "175945  0.000000  0.000000  0.000000  ...     0.0     0.0  0.000000     0.0   \n",
              "176165  0.000000  0.000000  0.000000  ...     0.0     0.0  0.000000     0.0   \n",
              "176271  0.000000  0.000000  0.000000  ...     0.0     0.0  0.000000     0.0   \n",
              "\n",
              "        175775  175777  175779  175945  176165  176271  \n",
              "1          0.0     0.0     0.0     0.0     0.0     0.0  \n",
              "2          0.0     0.0     0.0     0.0     0.0     0.0  \n",
              "3          0.0     0.0     0.0     0.0     0.0     0.0  \n",
              "4          0.0     0.0     0.0     0.0     0.0     0.0  \n",
              "5          0.0     0.0     0.0     0.0     0.0     0.0  \n",
              "...        ...     ...     ...     ...     ...     ...  \n",
              "175777     0.0     1.0     0.0     0.0     0.0     0.0  \n",
              "175779     0.0     0.0     1.0     0.0     1.0     0.0  \n",
              "175945     0.0     0.0     0.0     1.0     0.0     0.0  \n",
              "176165     0.0     0.0     1.0     0.0     1.0     0.0  \n",
              "176271     0.0     0.0     0.0     0.0     0.0     1.0  \n",
              "\n",
              "[15478 rows x 15478 columns]"
            ],
            "text/html": [
              "\n",
              "  <div id=\"df-95eafebb-8963-49e9-ae3e-399ff04d13ba\">\n",
              "    <div class=\"colab-df-container\">\n",
              "      <div>\n",
              "<style scoped>\n",
              "    .dataframe tbody tr th:only-of-type {\n",
              "        vertical-align: middle;\n",
              "    }\n",
              "\n",
              "    .dataframe tbody tr th {\n",
              "        vertical-align: top;\n",
              "    }\n",
              "\n",
              "    .dataframe thead th {\n",
              "        text-align: right;\n",
              "    }\n",
              "</style>\n",
              "<table border=\"1\" class=\"dataframe\">\n",
              "  <thead>\n",
              "    <tr style=\"text-align: right;\">\n",
              "      <th></th>\n",
              "      <th>1</th>\n",
              "      <th>2</th>\n",
              "      <th>3</th>\n",
              "      <th>4</th>\n",
              "      <th>5</th>\n",
              "      <th>6</th>\n",
              "      <th>7</th>\n",
              "      <th>8</th>\n",
              "      <th>9</th>\n",
              "      <th>10</th>\n",
              "      <th>...</th>\n",
              "      <th>175475</th>\n",
              "      <th>175579</th>\n",
              "      <th>175589</th>\n",
              "      <th>175773</th>\n",
              "      <th>175775</th>\n",
              "      <th>175777</th>\n",
              "      <th>175779</th>\n",
              "      <th>175945</th>\n",
              "      <th>176165</th>\n",
              "      <th>176271</th>\n",
              "    </tr>\n",
              "  </thead>\n",
              "  <tbody>\n",
              "    <tr>\n",
              "      <th>1</th>\n",
              "      <td>1.000000</td>\n",
              "      <td>0.199041</td>\n",
              "      <td>0.069245</td>\n",
              "      <td>0.033521</td>\n",
              "      <td>0.077152</td>\n",
              "      <td>0.180646</td>\n",
              "      <td>0.080731</td>\n",
              "      <td>0.014290</td>\n",
              "      <td>0.036629</td>\n",
              "      <td>0.175743</td>\n",
              "      <td>...</td>\n",
              "      <td>0.0</td>\n",
              "      <td>0.0</td>\n",
              "      <td>0.006038</td>\n",
              "      <td>0.0</td>\n",
              "      <td>0.0</td>\n",
              "      <td>0.0</td>\n",
              "      <td>0.0</td>\n",
              "      <td>0.0</td>\n",
              "      <td>0.0</td>\n",
              "      <td>0.0</td>\n",
              "    </tr>\n",
              "    <tr>\n",
              "      <th>2</th>\n",
              "      <td>0.199041</td>\n",
              "      <td>1.000000</td>\n",
              "      <td>0.134896</td>\n",
              "      <td>0.044544</td>\n",
              "      <td>0.125633</td>\n",
              "      <td>0.164764</td>\n",
              "      <td>0.184516</td>\n",
              "      <td>0.058321</td>\n",
              "      <td>0.089548</td>\n",
              "      <td>0.146228</td>\n",
              "      <td>...</td>\n",
              "      <td>0.0</td>\n",
              "      <td>0.0</td>\n",
              "      <td>0.023002</td>\n",
              "      <td>0.0</td>\n",
              "      <td>0.0</td>\n",
              "      <td>0.0</td>\n",
              "      <td>0.0</td>\n",
              "      <td>0.0</td>\n",
              "      <td>0.0</td>\n",
              "      <td>0.0</td>\n",
              "    </tr>\n",
              "    <tr>\n",
              "      <th>3</th>\n",
              "      <td>0.069245</td>\n",
              "      <td>0.134896</td>\n",
              "      <td>1.000000</td>\n",
              "      <td>0.050661</td>\n",
              "      <td>0.528917</td>\n",
              "      <td>0.590083</td>\n",
              "      <td>0.567912</td>\n",
              "      <td>0.029480</td>\n",
              "      <td>0.122374</td>\n",
              "      <td>0.055332</td>\n",
              "      <td>...</td>\n",
              "      <td>0.0</td>\n",
              "      <td>0.0</td>\n",
              "      <td>0.000000</td>\n",
              "      <td>0.0</td>\n",
              "      <td>0.0</td>\n",
              "      <td>0.0</td>\n",
              "      <td>0.0</td>\n",
              "      <td>0.0</td>\n",
              "      <td>0.0</td>\n",
              "      <td>0.0</td>\n",
              "    </tr>\n",
              "    <tr>\n",
              "      <th>4</th>\n",
              "      <td>0.033521</td>\n",
              "      <td>0.044544</td>\n",
              "      <td>0.050661</td>\n",
              "      <td>1.000000</td>\n",
              "      <td>0.116470</td>\n",
              "      <td>0.062167</td>\n",
              "      <td>0.078292</td>\n",
              "      <td>0.043644</td>\n",
              "      <td>0.058441</td>\n",
              "      <td>0.077279</td>\n",
              "      <td>...</td>\n",
              "      <td>0.0</td>\n",
              "      <td>0.0</td>\n",
              "      <td>0.000000</td>\n",
              "      <td>0.0</td>\n",
              "      <td>0.0</td>\n",
              "      <td>0.0</td>\n",
              "      <td>0.0</td>\n",
              "      <td>0.0</td>\n",
              "      <td>0.0</td>\n",
              "      <td>0.0</td>\n",
              "    </tr>\n",
              "    <tr>\n",
              "      <th>5</th>\n",
              "      <td>0.077152</td>\n",
              "      <td>0.125633</td>\n",
              "      <td>0.528917</td>\n",
              "      <td>0.116470</td>\n",
              "      <td>1.000000</td>\n",
              "      <td>0.522006</td>\n",
              "      <td>0.625761</td>\n",
              "      <td>0.020607</td>\n",
              "      <td>0.055188</td>\n",
              "      <td>0.041743</td>\n",
              "      <td>...</td>\n",
              "      <td>0.0</td>\n",
              "      <td>0.0</td>\n",
              "      <td>0.000000</td>\n",
              "      <td>0.0</td>\n",
              "      <td>0.0</td>\n",
              "      <td>0.0</td>\n",
              "      <td>0.0</td>\n",
              "      <td>0.0</td>\n",
              "      <td>0.0</td>\n",
              "      <td>0.0</td>\n",
              "    </tr>\n",
              "    <tr>\n",
              "      <th>...</th>\n",
              "      <td>...</td>\n",
              "      <td>...</td>\n",
              "      <td>...</td>\n",
              "      <td>...</td>\n",
              "      <td>...</td>\n",
              "      <td>...</td>\n",
              "      <td>...</td>\n",
              "      <td>...</td>\n",
              "      <td>...</td>\n",
              "      <td>...</td>\n",
              "      <td>...</td>\n",
              "      <td>...</td>\n",
              "      <td>...</td>\n",
              "      <td>...</td>\n",
              "      <td>...</td>\n",
              "      <td>...</td>\n",
              "      <td>...</td>\n",
              "      <td>...</td>\n",
              "      <td>...</td>\n",
              "      <td>...</td>\n",
              "      <td>...</td>\n",
              "    </tr>\n",
              "    <tr>\n",
              "      <th>175777</th>\n",
              "      <td>0.000000</td>\n",
              "      <td>0.000000</td>\n",
              "      <td>0.000000</td>\n",
              "      <td>0.000000</td>\n",
              "      <td>0.000000</td>\n",
              "      <td>0.000000</td>\n",
              "      <td>0.000000</td>\n",
              "      <td>0.000000</td>\n",
              "      <td>0.000000</td>\n",
              "      <td>0.000000</td>\n",
              "      <td>...</td>\n",
              "      <td>0.0</td>\n",
              "      <td>0.0</td>\n",
              "      <td>0.000000</td>\n",
              "      <td>0.0</td>\n",
              "      <td>0.0</td>\n",
              "      <td>1.0</td>\n",
              "      <td>0.0</td>\n",
              "      <td>0.0</td>\n",
              "      <td>0.0</td>\n",
              "      <td>0.0</td>\n",
              "    </tr>\n",
              "    <tr>\n",
              "      <th>175779</th>\n",
              "      <td>0.000000</td>\n",
              "      <td>0.000000</td>\n",
              "      <td>0.000000</td>\n",
              "      <td>0.000000</td>\n",
              "      <td>0.000000</td>\n",
              "      <td>0.000000</td>\n",
              "      <td>0.000000</td>\n",
              "      <td>0.000000</td>\n",
              "      <td>0.000000</td>\n",
              "      <td>0.000000</td>\n",
              "      <td>...</td>\n",
              "      <td>0.0</td>\n",
              "      <td>0.0</td>\n",
              "      <td>0.000000</td>\n",
              "      <td>0.0</td>\n",
              "      <td>0.0</td>\n",
              "      <td>0.0</td>\n",
              "      <td>1.0</td>\n",
              "      <td>0.0</td>\n",
              "      <td>1.0</td>\n",
              "      <td>0.0</td>\n",
              "    </tr>\n",
              "    <tr>\n",
              "      <th>175945</th>\n",
              "      <td>0.000000</td>\n",
              "      <td>0.000000</td>\n",
              "      <td>0.000000</td>\n",
              "      <td>0.000000</td>\n",
              "      <td>0.000000</td>\n",
              "      <td>0.000000</td>\n",
              "      <td>0.000000</td>\n",
              "      <td>0.000000</td>\n",
              "      <td>0.000000</td>\n",
              "      <td>0.000000</td>\n",
              "      <td>...</td>\n",
              "      <td>0.0</td>\n",
              "      <td>0.0</td>\n",
              "      <td>0.000000</td>\n",
              "      <td>0.0</td>\n",
              "      <td>0.0</td>\n",
              "      <td>0.0</td>\n",
              "      <td>0.0</td>\n",
              "      <td>1.0</td>\n",
              "      <td>0.0</td>\n",
              "      <td>0.0</td>\n",
              "    </tr>\n",
              "    <tr>\n",
              "      <th>176165</th>\n",
              "      <td>0.000000</td>\n",
              "      <td>0.000000</td>\n",
              "      <td>0.000000</td>\n",
              "      <td>0.000000</td>\n",
              "      <td>0.000000</td>\n",
              "      <td>0.000000</td>\n",
              "      <td>0.000000</td>\n",
              "      <td>0.000000</td>\n",
              "      <td>0.000000</td>\n",
              "      <td>0.000000</td>\n",
              "      <td>...</td>\n",
              "      <td>0.0</td>\n",
              "      <td>0.0</td>\n",
              "      <td>0.000000</td>\n",
              "      <td>0.0</td>\n",
              "      <td>0.0</td>\n",
              "      <td>0.0</td>\n",
              "      <td>1.0</td>\n",
              "      <td>0.0</td>\n",
              "      <td>1.0</td>\n",
              "      <td>0.0</td>\n",
              "    </tr>\n",
              "    <tr>\n",
              "      <th>176271</th>\n",
              "      <td>0.000000</td>\n",
              "      <td>0.000000</td>\n",
              "      <td>0.000000</td>\n",
              "      <td>0.000000</td>\n",
              "      <td>0.000000</td>\n",
              "      <td>0.000000</td>\n",
              "      <td>0.000000</td>\n",
              "      <td>0.000000</td>\n",
              "      <td>0.000000</td>\n",
              "      <td>0.000000</td>\n",
              "      <td>...</td>\n",
              "      <td>0.0</td>\n",
              "      <td>0.0</td>\n",
              "      <td>0.000000</td>\n",
              "      <td>0.0</td>\n",
              "      <td>0.0</td>\n",
              "      <td>0.0</td>\n",
              "      <td>0.0</td>\n",
              "      <td>0.0</td>\n",
              "      <td>0.0</td>\n",
              "      <td>1.0</td>\n",
              "    </tr>\n",
              "  </tbody>\n",
              "</table>\n",
              "<p>15478 rows × 15478 columns</p>\n",
              "</div>\n",
              "      <button class=\"colab-df-convert\" onclick=\"convertToInteractive('df-95eafebb-8963-49e9-ae3e-399ff04d13ba')\"\n",
              "              title=\"Convert this dataframe to an interactive table.\"\n",
              "              style=\"display:none;\">\n",
              "        \n",
              "  <svg xmlns=\"http://www.w3.org/2000/svg\" height=\"24px\"viewBox=\"0 0 24 24\"\n",
              "       width=\"24px\">\n",
              "    <path d=\"M0 0h24v24H0V0z\" fill=\"none\"/>\n",
              "    <path d=\"M18.56 5.44l.94 2.06.94-2.06 2.06-.94-2.06-.94-.94-2.06-.94 2.06-2.06.94zm-11 1L8.5 8.5l.94-2.06 2.06-.94-2.06-.94L8.5 2.5l-.94 2.06-2.06.94zm10 10l.94 2.06.94-2.06 2.06-.94-2.06-.94-.94-2.06-.94 2.06-2.06.94z\"/><path d=\"M17.41 7.96l-1.37-1.37c-.4-.4-.92-.59-1.43-.59-.52 0-1.04.2-1.43.59L10.3 9.45l-7.72 7.72c-.78.78-.78 2.05 0 2.83L4 21.41c.39.39.9.59 1.41.59.51 0 1.02-.2 1.41-.59l7.78-7.78 2.81-2.81c.8-.78.8-2.07 0-2.86zM5.41 20L4 18.59l7.72-7.72 1.47 1.35L5.41 20z\"/>\n",
              "  </svg>\n",
              "      </button>\n",
              "      \n",
              "  <style>\n",
              "    .colab-df-container {\n",
              "      display:flex;\n",
              "      flex-wrap:wrap;\n",
              "      gap: 12px;\n",
              "    }\n",
              "\n",
              "    .colab-df-convert {\n",
              "      background-color: #E8F0FE;\n",
              "      border: none;\n",
              "      border-radius: 50%;\n",
              "      cursor: pointer;\n",
              "      display: none;\n",
              "      fill: #1967D2;\n",
              "      height: 32px;\n",
              "      padding: 0 0 0 0;\n",
              "      width: 32px;\n",
              "    }\n",
              "\n",
              "    .colab-df-convert:hover {\n",
              "      background-color: #E2EBFA;\n",
              "      box-shadow: 0px 1px 2px rgba(60, 64, 67, 0.3), 0px 1px 3px 1px rgba(60, 64, 67, 0.15);\n",
              "      fill: #174EA6;\n",
              "    }\n",
              "\n",
              "    [theme=dark] .colab-df-convert {\n",
              "      background-color: #3B4455;\n",
              "      fill: #D2E3FC;\n",
              "    }\n",
              "\n",
              "    [theme=dark] .colab-df-convert:hover {\n",
              "      background-color: #434B5C;\n",
              "      box-shadow: 0px 1px 3px 1px rgba(0, 0, 0, 0.15);\n",
              "      filter: drop-shadow(0px 1px 2px rgba(0, 0, 0, 0.3));\n",
              "      fill: #FFFFFF;\n",
              "    }\n",
              "  </style>\n",
              "\n",
              "      <script>\n",
              "        const buttonEl =\n",
              "          document.querySelector('#df-95eafebb-8963-49e9-ae3e-399ff04d13ba button.colab-df-convert');\n",
              "        buttonEl.style.display =\n",
              "          google.colab.kernel.accessAllowed ? 'block' : 'none';\n",
              "\n",
              "        async function convertToInteractive(key) {\n",
              "          const element = document.querySelector('#df-95eafebb-8963-49e9-ae3e-399ff04d13ba');\n",
              "          const dataTable =\n",
              "            await google.colab.kernel.invokeFunction('convertToInteractive',\n",
              "                                                     [key], {});\n",
              "          if (!dataTable) return;\n",
              "\n",
              "          const docLinkHtml = 'Like what you see? Visit the ' +\n",
              "            '<a target=\"_blank\" href=https://colab.research.google.com/notebooks/data_table.ipynb>data table notebook</a>'\n",
              "            + ' to learn more about interactive tables.';\n",
              "          element.innerHTML = '';\n",
              "          dataTable['output_type'] = 'display_data';\n",
              "          await google.colab.output.renderOutput(dataTable, element);\n",
              "          const docLink = document.createElement('div');\n",
              "          docLink.innerHTML = docLinkHtml;\n",
              "          element.appendChild(docLink);\n",
              "        }\n",
              "      </script>\n",
              "    </div>\n",
              "  </div>\n",
              "  "
            ]
          },
          "metadata": {},
          "execution_count": 56
        }
      ]
    },
    {
      "cell_type": "code",
      "source": [
        "new_user = np.zeros(len(co_matrix), dtype=int) #create a vector as a new user entry\n",
        "random_index = np.random.randint(0, len(co_matrix)) #make a random index\n",
        "\n",
        "new_user[random_index]=1 #generate 1 for a random-th row\n",
        "new_user[random_index]=1\n",
        "new_user[random_index]=1\n",
        "new_user[random_index]=1\n",
        "new_user[random_index]=1\n",
        "new_user[random_index]=1\n",
        "new_user[random_index]=1\n",
        "new_user[random_index]=1\n",
        "new_user[random_index]=1\n",
        "new_user[random_index]=1\n",
        "new_user[random_index]=1\n",
        "new_user[random_index]=1\n",
        "new_user[random_index]=1\n",
        "new_user[random_index]=1\n",
        "new_user[random_index]=1\n",
        "new_user[random_index]=1\n",
        "new_user[random_index]=1\n",
        "new_user[random_index]=1\n",
        "new_user[random_index]=1\n",
        "new_user[random_index]=1\n",
        "new_user[random_index]=1\n",
        "new_user[random_index]=1\n",
        "new_user[random_index]=1\n",
        "new_user[random_index]=1\n",
        "new_user[random_index]=1\n",
        "new_user[random_index]=1\n",
        "new_user[random_index]=1\n",
        "new_user[random_index]=1\n",
        "new_user[random_index]=1\n",
        "new_user[random_index]=1\n",
        "new_user[random_index]=1\n",
        "\n",
        "len(new_user) == len(co_matrix)\n",
        "new_user"
      ],
      "metadata": {
        "colab": {
          "base_uri": "https://localhost:8080/"
        },
        "id": "TCg6JF3GkzVl",
        "outputId": "191ae258-0a2f-4548-a389-7c6e24165231"
      },
      "execution_count": 59,
      "outputs": [
        {
          "output_type": "execute_result",
          "data": {
            "text/plain": [
              "array([0, 0, 0, ..., 0, 0, 0])"
            ]
          },
          "metadata": {},
          "execution_count": 59
        }
      ]
    },
    {
      "cell_type": "markdown",
      "source": [
        "*   **Predicting (making recommendations) for a new user**"
      ],
      "metadata": {
        "id": "LgTrD6qnkniP"
      }
    },
    {
      "cell_type": "code",
      "source": [
        "A = new_user\n",
        "B = cos_score_df.to_numpy()\n",
        "\n",
        "out_asc = np.sort(np.matmul(A, B))\n",
        "out_desc = out_asc[::-1] #sort the score in desc for top similarty scores\n",
        "recommendation_all = [] \n",
        "candidates_only = []\n",
        "\n",
        "for i in range(len(new_user)):\n",
        "  if new_user[i] == 0:\n",
        "    recommendation_all.append(out_desc[i])\n",
        "    candidates_only.append(out_desc[i])\n",
        "  if new_user[i] > 0: \n",
        "    recommendation_all.append(str(out_desc[i]) + ' implied preference') #mark those that are already preferred by the user\n",
        "\n",
        "recommendation_all[:100] #view the top 100 candidates (including implied preference)\n",
        "candidates_only[:100] #view the top 100 candidates"
      ],
      "metadata": {
        "colab": {
          "base_uri": "https://localhost:8080/"
        },
        "id": "pcmBplVokjmi",
        "outputId": "59a1b84b-5be6-42ee-ce6e-7ed373676540"
      },
      "execution_count": 63,
      "outputs": [
        {
          "output_type": "execute_result",
          "data": {
            "text/plain": [
              "[1.0000000000000002,\n",
              " 0.447213595499958,\n",
              " 0.34729169384182046,\n",
              " 0.316227766016838,\n",
              " 0.2581988897471612,\n",
              " 0.223606797749979,\n",
              " 0.20000000000000004,\n",
              " 0.1825741858350554,\n",
              " 0.1825741858350554,\n",
              " 0.16903085094570336,\n",
              " 0.16903085094570333,\n",
              " 0.16514456476895414,\n",
              " 0.158113883008419,\n",
              " 0.15060017387484667,\n",
              " 0.14907119849998599,\n",
              " 0.14142135623730953,\n",
              " 0.14142135623730953,\n",
              " 0.12792042981336627,\n",
              " 0.1267731382092775,\n",
              " 0.1240347345892085,\n",
              " 0.12247448713915891,\n",
              " 0.12171612389003697,\n",
              " 0.11952286093343938,\n",
              " 0.11952286093343938,\n",
              " 0.11952286093343938,\n",
              " 0.11547005383792518,\n",
              " 0.11462410798513055,\n",
              " 0.1118033988749895,\n",
              " 0.1084652289093281,\n",
              " 0.105409255338946,\n",
              " 0.105409255338946,\n",
              " 0.10446597681448266,\n",
              " 0.10259783520851543,\n",
              " 0.10000000000000002,\n",
              " 0.1,\n",
              " 0.09534625892455924,\n",
              " 0.0932504808240314,\n",
              " 0.0932504808240314,\n",
              " 0.0912870929175277,\n",
              " 0.0912870929175277,\n",
              " 0.0912870929175277,\n",
              " 0.08944271909999157,\n",
              " 0.08770580193070295,\n",
              " 0.08451542547285168,\n",
              " 0.08451542547285167,\n",
              " 0.08451542547285167,\n",
              " 0.08451542547285167,\n",
              " 0.08272911497096008,\n",
              " 0.08164965809277262,\n",
              " 0.08164965809277262,\n",
              " 0.08164965809277262,\n",
              " 0.08134892168199612,\n",
              " 0.0803219328902499,\n",
              " 0.08032193289024989,\n",
              " 0.0790569415042095,\n",
              " 0.07844645405527365,\n",
              " 0.0778498944161523,\n",
              " 0.07453559924999299,\n",
              " 0.0716114874039433,\n",
              " 0.07005694441040589,\n",
              " 0.06984302957695783,\n",
              " 0.06984302957695783,\n",
              " 0.06900655593423542,\n",
              " 0.06900655593423542,\n",
              " 0.06819943394704737,\n",
              " 0.06800204009180458,\n",
              " 0.06741998624632423,\n",
              " 0.06741998624632423,\n",
              " 0.0666666666666667,\n",
              " 0.06593804733957873,\n",
              " 0.06534640392130715,\n",
              " 0.06523280730534424,\n",
              " 0.06523280730534424,\n",
              " 0.06471848016905737,\n",
              " 0.06388765649999398,\n",
              " 0.0632455532033676,\n",
              " 0.06262242910851497,\n",
              " 0.06201736729460423,\n",
              " 0.06142951168339513,\n",
              " 0.06110610165340724,\n",
              " 0.060858061945018485,\n",
              " 0.06030226891555274,\n",
              " 0.05989527482354796,\n",
              " 0.05976143046671969,\n",
              " 0.05976143046671969,\n",
              " 0.058991033225115216,\n",
              " 0.058387420812114225,\n",
              " 0.05822225097395821,\n",
              " 0.0582222509739582,\n",
              " 0.0578556854140372,\n",
              " 0.0577350269189626,\n",
              " 0.05773502691896259,\n",
              " 0.05679618342470651,\n",
              " 0.056682020126513584,\n",
              " 0.056343616981901115,\n",
              " 0.056121353326631394,\n",
              " 0.05590169943749475,\n",
              " 0.05590169943749475,\n",
              " 0.055152743313973386,\n",
              " 0.05433258249241614]"
            ]
          },
          "metadata": {},
          "execution_count": 63
        }
      ]
    }
  ],
  "metadata": {
    "colab": {
      "provenance": [],
      "mount_file_id": "18A-fx6Lhvqze3v8cfrKk2KtvKHbjtNKs",
      "authorship_tag": "ABX9TyOtejff/FszgBkWTGlYnJBm",
      "include_colab_link": true
    },
    "kernelspec": {
      "display_name": "Python 3",
      "name": "python3"
    },
    "language_info": {
      "name": "python"
    }
  },
  "nbformat": 4,
  "nbformat_minor": 0
}